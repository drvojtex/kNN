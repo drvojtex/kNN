{
 "cells": [
  {
   "cell_type": "markdown",
   "metadata": {},
   "source": [
    "# kNN: k-nearest neighbor classifier \n",
    "\n",
    "Exmple of usage kNN library on the well-known Iris dataset."
   ]
  },
  {
   "cell_type": "markdown",
   "metadata": {},
   "source": [
    "Load libraries"
   ]
  },
  {
   "cell_type": "code",
   "execution_count": 17,
   "metadata": {},
   "outputs": [],
   "source": [
    "using kNN\n",
    "using MLDatasets, Random, DataFrames\n",
    "using StatsBase, LinearAlgebra\n",
    "using Plots, Printf"
   ]
  },
  {
   "cell_type": "markdown",
   "metadata": {},
   "source": [
    "Load dataset, normalise data features to zero mean and unit standard devitation\n",
    "Split into train and test part"
   ]
  },
  {
   "cell_type": "code",
   "execution_count": 18,
   "metadata": {},
   "outputs": [],
   "source": [
    "dataset = DataFrame(shuffle(eachrow(Iris().dataframe)));\n",
    "\n",
    "z(s, μ, σ, ϵ) = (s - μ) / (σ + ϵ)\n",
    "for i=1:4\n",
    "    tmp = dataset[:, i]\n",
    "    dataset[:, i] = z.(tmp, mean(tmp), std(tmp), 10e-10)\n",
    "end\n",
    "\n",
    "trn_data = dataset[1:130, :];\n",
    "test_data = dataset[131:end, :];"
   ]
  },
  {
   "cell_type": "markdown",
   "metadata": {},
   "source": [
    "Create 3-NN classifier with Eucledian distance"
   ]
  },
  {
   "cell_type": "code",
   "execution_count": 19,
   "metadata": {},
   "outputs": [],
   "source": [
    "classifier = kNN_classifier(3, 2.0, trn_data[:,1:4], DataFrame(class=trn_data[:,5]));"
   ]
  },
  {
   "cell_type": "markdown",
   "metadata": {},
   "source": [
    "Compute contingency table and accuracy of the classifier"
   ]
  },
  {
   "cell_type": "code",
   "execution_count": 20,
   "metadata": {},
   "outputs": [
    {
     "name": "stdout",
     "output_type": "stream",
     "text": [
      "acc = 0.95\n",
      "                   Iris-virginica   Iris-versicolor   Iris-setosa   total   sensitivity\n",
      " Iris-virginica   6.0              1.0               0.0           7.0     0.86\n",
      " Iris-versicolor  0.0              7.0               0.0           7.0     1.0\n",
      " Iris-setosa      0.0              0.0               6.0           6.0     1.0"
     ]
    }
   ],
   "source": [
    "@printf \"acc = %.2f\\n\" acc(classifier.classify, test_data[:, 1:4], DataFrame(class=test_data[:,5]))\n",
    "ct, lm = contingency_table(classifier.classify, test_data[:, 1:4], DataFrame(class=test_data[:, 5]))\n",
    "\n",
    "labels = map(x -> x[1], sort(collect(lm), by=x->x[2]))\n",
    "\n",
    "Base.print_matrix(stdout, [\n",
    "    Text.([\"\"; labels]) [Text.([permutedims(labels) \"total\" \"sensitivity\"]); [\n",
    "        Int.(ct) Int.(sum(ct, dims=2)) round.(diag(ct)./sum(ct, dims=2), digits=2)\n",
    "    ]]\n",
    "])\n"
   ]
  }
 ],
 "metadata": {
  "kernelspec": {
   "display_name": "Julia 1.7.0",
   "language": "julia",
   "name": "julia-1.7"
  },
  "language_info": {
   "file_extension": ".jl",
   "mimetype": "application/julia",
   "name": "julia",
   "version": "1.7.0"
  },
  "orig_nbformat": 4,
  "vscode": {
   "interpreter": {
    "hash": "60aa0a847b2a6c4771b6f0a4a09c35a6025b095fa5d9ee644f9ad21b1db0180c"
   }
  }
 },
 "nbformat": 4,
 "nbformat_minor": 2
}
