{
 "cells": [
  {
   "cell_type": "markdown",
   "metadata": {},
   "source": [
    "# kNN: k-nearest neighbor classifier \n",
    "\n",
    "Exmple of usage kNN library on the well-known Iris dataset.\n",
    "Evaluation of the leave-one-out cross-validation for different setup of 'k' and 'p' parameters, \n",
    "where 'k' is the neigbors count and 'p' the Minkowski distance parameter."
   ]
  },
  {
   "cell_type": "markdown",
   "metadata": {},
   "source": [
    "Load libraries"
   ]
  },
  {
   "cell_type": "code",
   "execution_count": 1,
   "metadata": {},
   "outputs": [],
   "source": [
    "using kNN\n",
    "using MLDatasets, Random, DataFrames\n",
    "using StatsBase\n",
    "using Plots, Printf"
   ]
  },
  {
   "cell_type": "markdown",
   "metadata": {},
   "source": [
    "Load dataset"
   ]
  },
  {
   "cell_type": "code",
   "execution_count": 2,
   "metadata": {},
   "outputs": [
    {
     "data": {
      "text/html": [
       "<div class=\"data-frame\"><p>150 rows × 5 columns</p><table class=\"data-frame\"><thead><tr><th></th><th>sepallength</th><th>sepalwidth</th><th>petallength</th><th>petalwidth</th><th>class</th></tr><tr><th></th><th title=\"Float64\">Float64</th><th title=\"Float64\">Float64</th><th title=\"Float64\">Float64</th><th title=\"Float64\">Float64</th><th title=\"InlineStrings.String15\">String15</th></tr></thead><tbody><tr><th>1</th><td>7.0</td><td>3.2</td><td>4.7</td><td>1.4</td><td>Iris-versicolor</td></tr><tr><th>2</th><td>7.9</td><td>3.8</td><td>6.4</td><td>2.0</td><td>Iris-virginica</td></tr><tr><th>3</th><td>4.9</td><td>3.1</td><td>1.5</td><td>0.1</td><td>Iris-setosa</td></tr><tr><th>4</th><td>7.6</td><td>3.0</td><td>6.6</td><td>2.1</td><td>Iris-virginica</td></tr><tr><th>5</th><td>6.3</td><td>3.4</td><td>5.6</td><td>2.4</td><td>Iris-virginica</td></tr><tr><th>6</th><td>5.7</td><td>2.9</td><td>4.2</td><td>1.3</td><td>Iris-versicolor</td></tr><tr><th>7</th><td>7.2</td><td>3.6</td><td>6.1</td><td>2.5</td><td>Iris-virginica</td></tr><tr><th>8</th><td>6.3</td><td>2.5</td><td>4.9</td><td>1.5</td><td>Iris-versicolor</td></tr><tr><th>9</th><td>5.1</td><td>3.3</td><td>1.7</td><td>0.5</td><td>Iris-setosa</td></tr><tr><th>10</th><td>5.6</td><td>2.9</td><td>3.6</td><td>1.3</td><td>Iris-versicolor</td></tr><tr><th>11</th><td>5.8</td><td>2.7</td><td>4.1</td><td>1.0</td><td>Iris-versicolor</td></tr><tr><th>12</th><td>6.2</td><td>2.8</td><td>4.8</td><td>1.8</td><td>Iris-virginica</td></tr><tr><th>13</th><td>5.0</td><td>3.5</td><td>1.6</td><td>0.6</td><td>Iris-setosa</td></tr><tr><th>14</th><td>5.2</td><td>3.5</td><td>1.5</td><td>0.2</td><td>Iris-setosa</td></tr><tr><th>15</th><td>6.4</td><td>2.9</td><td>4.3</td><td>1.3</td><td>Iris-versicolor</td></tr><tr><th>16</th><td>6.5</td><td>3.0</td><td>5.8</td><td>2.2</td><td>Iris-virginica</td></tr><tr><th>17</th><td>5.0</td><td>3.6</td><td>1.4</td><td>0.2</td><td>Iris-setosa</td></tr><tr><th>18</th><td>5.5</td><td>2.6</td><td>4.4</td><td>1.2</td><td>Iris-versicolor</td></tr><tr><th>19</th><td>6.5</td><td>3.0</td><td>5.2</td><td>2.0</td><td>Iris-virginica</td></tr><tr><th>20</th><td>7.4</td><td>2.8</td><td>6.1</td><td>1.9</td><td>Iris-virginica</td></tr><tr><th>21</th><td>6.3</td><td>2.9</td><td>5.6</td><td>1.8</td><td>Iris-virginica</td></tr><tr><th>22</th><td>6.7</td><td>3.1</td><td>5.6</td><td>2.4</td><td>Iris-virginica</td></tr><tr><th>23</th><td>5.9</td><td>3.0</td><td>4.2</td><td>1.5</td><td>Iris-versicolor</td></tr><tr><th>24</th><td>5.5</td><td>2.4</td><td>3.7</td><td>1.0</td><td>Iris-versicolor</td></tr><tr><th>25</th><td>5.8</td><td>2.6</td><td>4.0</td><td>1.2</td><td>Iris-versicolor</td></tr><tr><th>26</th><td>5.7</td><td>2.8</td><td>4.5</td><td>1.3</td><td>Iris-versicolor</td></tr><tr><th>27</th><td>6.7</td><td>3.3</td><td>5.7</td><td>2.1</td><td>Iris-virginica</td></tr><tr><th>28</th><td>4.7</td><td>3.2</td><td>1.6</td><td>0.2</td><td>Iris-setosa</td></tr><tr><th>29</th><td>6.5</td><td>3.2</td><td>5.1</td><td>2.0</td><td>Iris-virginica</td></tr><tr><th>30</th><td>7.7</td><td>3.8</td><td>6.7</td><td>2.2</td><td>Iris-virginica</td></tr><tr><th>&vellip;</th><td>&vellip;</td><td>&vellip;</td><td>&vellip;</td><td>&vellip;</td><td>&vellip;</td></tr></tbody></table></div>"
      ],
      "text/latex": [
       "\\begin{tabular}{r|ccccc}\n",
       "\t& sepallength & sepalwidth & petallength & petalwidth & class\\\\\n",
       "\t\\hline\n",
       "\t& Float64 & Float64 & Float64 & Float64 & String15\\\\\n",
       "\t\\hline\n",
       "\t1 & 7.0 & 3.2 & 4.7 & 1.4 & Iris-versicolor \\\\\n",
       "\t2 & 7.9 & 3.8 & 6.4 & 2.0 & Iris-virginica \\\\\n",
       "\t3 & 4.9 & 3.1 & 1.5 & 0.1 & Iris-setosa \\\\\n",
       "\t4 & 7.6 & 3.0 & 6.6 & 2.1 & Iris-virginica \\\\\n",
       "\t5 & 6.3 & 3.4 & 5.6 & 2.4 & Iris-virginica \\\\\n",
       "\t6 & 5.7 & 2.9 & 4.2 & 1.3 & Iris-versicolor \\\\\n",
       "\t7 & 7.2 & 3.6 & 6.1 & 2.5 & Iris-virginica \\\\\n",
       "\t8 & 6.3 & 2.5 & 4.9 & 1.5 & Iris-versicolor \\\\\n",
       "\t9 & 5.1 & 3.3 & 1.7 & 0.5 & Iris-setosa \\\\\n",
       "\t10 & 5.6 & 2.9 & 3.6 & 1.3 & Iris-versicolor \\\\\n",
       "\t11 & 5.8 & 2.7 & 4.1 & 1.0 & Iris-versicolor \\\\\n",
       "\t12 & 6.2 & 2.8 & 4.8 & 1.8 & Iris-virginica \\\\\n",
       "\t13 & 5.0 & 3.5 & 1.6 & 0.6 & Iris-setosa \\\\\n",
       "\t14 & 5.2 & 3.5 & 1.5 & 0.2 & Iris-setosa \\\\\n",
       "\t15 & 6.4 & 2.9 & 4.3 & 1.3 & Iris-versicolor \\\\\n",
       "\t16 & 6.5 & 3.0 & 5.8 & 2.2 & Iris-virginica \\\\\n",
       "\t17 & 5.0 & 3.6 & 1.4 & 0.2 & Iris-setosa \\\\\n",
       "\t18 & 5.5 & 2.6 & 4.4 & 1.2 & Iris-versicolor \\\\\n",
       "\t19 & 6.5 & 3.0 & 5.2 & 2.0 & Iris-virginica \\\\\n",
       "\t20 & 7.4 & 2.8 & 6.1 & 1.9 & Iris-virginica \\\\\n",
       "\t21 & 6.3 & 2.9 & 5.6 & 1.8 & Iris-virginica \\\\\n",
       "\t22 & 6.7 & 3.1 & 5.6 & 2.4 & Iris-virginica \\\\\n",
       "\t23 & 5.9 & 3.0 & 4.2 & 1.5 & Iris-versicolor \\\\\n",
       "\t24 & 5.5 & 2.4 & 3.7 & 1.0 & Iris-versicolor \\\\\n",
       "\t25 & 5.8 & 2.6 & 4.0 & 1.2 & Iris-versicolor \\\\\n",
       "\t26 & 5.7 & 2.8 & 4.5 & 1.3 & Iris-versicolor \\\\\n",
       "\t27 & 6.7 & 3.3 & 5.7 & 2.1 & Iris-virginica \\\\\n",
       "\t28 & 4.7 & 3.2 & 1.6 & 0.2 & Iris-setosa \\\\\n",
       "\t29 & 6.5 & 3.2 & 5.1 & 2.0 & Iris-virginica \\\\\n",
       "\t30 & 7.7 & 3.8 & 6.7 & 2.2 & Iris-virginica \\\\\n",
       "\t$\\dots$ & $\\dots$ & $\\dots$ & $\\dots$ & $\\dots$ & $\\dots$ \\\\\n",
       "\\end{tabular}\n"
      ],
      "text/plain": [
       "\u001b[1m150×5 DataFrame\u001b[0m\n",
       "\u001b[1m Row \u001b[0m│\u001b[1m sepallength \u001b[0m\u001b[1m sepalwidth \u001b[0m\u001b[1m petallength \u001b[0m\u001b[1m petalwidth \u001b[0m\u001b[1m class           \u001b[0m\n",
       "\u001b[1m     \u001b[0m│\u001b[90m Float64     \u001b[0m\u001b[90m Float64    \u001b[0m\u001b[90m Float64     \u001b[0m\u001b[90m Float64    \u001b[0m\u001b[90m String15        \u001b[0m\n",
       "─────┼───────────────────────────────────────────────────────────────────\n",
       "   1 │         7.0         3.2          4.7         1.4  Iris-versicolor\n",
       "   2 │         7.9         3.8          6.4         2.0  Iris-virginica\n",
       "   3 │         4.9         3.1          1.5         0.1  Iris-setosa\n",
       "   4 │         7.6         3.0          6.6         2.1  Iris-virginica\n",
       "   5 │         6.3         3.4          5.6         2.4  Iris-virginica\n",
       "   6 │         5.7         2.9          4.2         1.3  Iris-versicolor\n",
       "   7 │         7.2         3.6          6.1         2.5  Iris-virginica\n",
       "   8 │         6.3         2.5          4.9         1.5  Iris-versicolor\n",
       "   9 │         5.1         3.3          1.7         0.5  Iris-setosa\n",
       "  10 │         5.6         2.9          3.6         1.3  Iris-versicolor\n",
       "  11 │         5.8         2.7          4.1         1.0  Iris-versicolor\n",
       "  ⋮  │      ⋮           ⋮            ⋮           ⋮              ⋮\n",
       " 141 │         6.3         2.7          4.9         1.8  Iris-virginica\n",
       " 142 │         6.9         3.2          5.7         2.3  Iris-virginica\n",
       " 143 │         5.1         3.8          1.9         0.4  Iris-setosa\n",
       " 144 │         5.1         3.7          1.5         0.4  Iris-setosa\n",
       " 145 │         7.7         3.0          6.1         2.3  Iris-virginica\n",
       " 146 │         4.8         3.0          1.4         0.1  Iris-setosa\n",
       " 147 │         4.8         3.1          1.6         0.2  Iris-setosa\n",
       " 148 │         5.7         3.8          1.7         0.3  Iris-setosa\n",
       " 149 │         6.3         3.3          6.0         2.5  Iris-virginica\n",
       " 150 │         5.1         3.8          1.5         0.3  Iris-setosa\n",
       "\u001b[36m                                                         129 rows omitted\u001b[0m"
      ]
     },
     "execution_count": 2,
     "metadata": {},
     "output_type": "execute_result"
    }
   ],
   "source": [
    "dataset = DataFrame(shuffle(eachrow(Iris().dataframe)))"
   ]
  },
  {
   "cell_type": "markdown",
   "metadata": {},
   "source": [
    "Normalise data features to zero mean and unit standard devitation"
   ]
  },
  {
   "cell_type": "code",
   "execution_count": 3,
   "metadata": {},
   "outputs": [],
   "source": [
    "z(s, μ, σ, ϵ) = (s - μ) / (σ + ϵ)\n",
    "for i=1:4\n",
    "    tmp = dataset[:, i]\n",
    "    dataset[:, i] = z.(tmp, mean(tmp), std(tmp), 10e-10)\n",
    "end"
   ]
  },
  {
   "cell_type": "markdown",
   "metadata": {},
   "source": [
    "Prepare heatmap matrix of 'k' and 'p' parameters"
   ]
  },
  {
   "cell_type": "code",
   "execution_count": 4,
   "metadata": {},
   "outputs": [],
   "source": [
    "k_linspace = 1:20\n",
    "p_linspace = 1:0.05:5\n",
    "heatmap_matrix = zeros(length(k_linspace), length(p_linspace));"
   ]
  },
  {
   "cell_type": "markdown",
   "metadata": {},
   "source": [
    "Fill heatmap matrix with accuracy results for different parameters setting"
   ]
  },
  {
   "cell_type": "code",
   "execution_count": 5,
   "metadata": {},
   "outputs": [],
   "source": [
    "for (k::Int64, k_itr::Int64) in zip(k_linspace, 1:length(k_linspace))\n",
    "    for (p::Float64, p_itr::Int64) in zip(p_linspace, 1:length(p_linspace))\n",
    "        heatmap_matrix[k_itr, p_itr] = leave_one_out_kNN(dataset, 1:4, 5, k, p)\n",
    "    end\n",
    "end"
   ]
  },
  {
   "cell_type": "markdown",
   "metadata": {},
   "source": [
    "Plot the heatmap"
   ]
  },
  {
   "cell_type": "code",
   "execution_count": 6,
   "metadata": {},
   "outputs": [
    {
     "data": {
      "image/png": "[encoded data removed]"
     },
     "execution_count": 6,
     "metadata": {},
     "output_type": "execute_result"
    }
   ],
   "source": [
    "gr(size=(700, 500), html_output_format=:png)\n",
    "heatmap(heatmap_matrix, xticks = (1:10:length(p_linspace)+1, \n",
    "    string.(1:maximum(p_linspace)/10:maximum(p_linspace))), title=\"k-NNᵖ accuracy\", xlabel=\"p\", ylabel=\"k\")"
   ]
  },
  {
   "cell_type": "markdown",
   "metadata": {},
   "source": [
    "Get the minimum and the maximum accuracy settings"
   ]
  },
  {
   "cell_type": "code",
   "execution_count": 8,
   "metadata": {},
   "outputs": [
    {
     "name": "stdout",
     "output_type": "stream",
     "text": [
      "best accuracy: 0.973 for p = 1.35 and k = 13\n",
      "worst accuracy: 0.913 for p = 4.95 and k = 20\n"
     ]
    }
   ],
   "source": [
    "max_arg = argmax(heatmap_matrix)\n",
    "min_arg = argmin(heatmap_matrix)\n",
    "@printf \"best accuracy: %.3f for p = %.2f and k = %i\\n\" heatmap_matrix[max_arg] max_arg[2]*0.05+1 max_arg[1]\n",
    "@printf \"worst accuracy: %.3f for p = %.2f and k = %i\\n\" heatmap_matrix[min_arg] min_arg[2]*0.05+1 min_arg[1]"
   ]
  }
 ],
 "metadata": {
  "kernelspec": {
   "display_name": "Julia 1.7.0",
   "language": "julia",
   "name": "julia-1.7"
  },
  "language_info": {
   "file_extension": ".jl",
   "mimetype": "application/julia",
   "name": "julia",
   "version": "1.7.0"
  },
  "orig_nbformat": 4,
  "vscode": {
   "interpreter": {
    "hash": "60aa0a847b2a6c4771b6f0a4a09c35a6025b095fa5d9ee644f9ad21b1db0180c"
   }
  }
 },
 "nbformat": 4,
 "nbformat_minor": 2
}
