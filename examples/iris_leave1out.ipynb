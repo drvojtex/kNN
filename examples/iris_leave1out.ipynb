{
 "cells": [
  {
   "cell_type": "markdown",
   "metadata": {},
   "source": [
    "# kNN: k-nearest neighbor classifier \n",
    "\n",
    "Exmple of usage kNN library on the well-known Iris dataset.\n",
    "Evaluation of the leave-one-out cross-validation for different setup of 'k' and 'p' parameters, \n",
    "where 'k' is the neigbors count and 'p' the Minkowski distance parameter."
   ]
  },
  {
   "cell_type": "markdown",
   "metadata": {},
   "source": [
    "Load libraries"
   ]
  },
  {
   "cell_type": "code",
   "execution_count": 1,
   "metadata": {},
   "outputs": [],
   "source": [
    "using kNN\n",
    "using MLDatasets, Random, DataFrames\n",
    "using Plots, Printf"
   ]
  },
  {
   "cell_type": "markdown",
   "metadata": {},
   "source": [
    "Load dataset"
   ]
  },
  {
   "cell_type": "code",
   "execution_count": 2,
   "metadata": {},
   "outputs": [
    {
     "data": {
      "text/html": [
       "<div class=\"data-frame\"><p>150 rows × 5 columns</p><table class=\"data-frame\"><thead><tr><th></th><th>sepallength</th><th>sepalwidth</th><th>petallength</th><th>petalwidth</th><th>class</th></tr><tr><th></th><th title=\"Float64\">Float64</th><th title=\"Float64\">Float64</th><th title=\"Float64\">Float64</th><th title=\"Float64\">Float64</th><th title=\"InlineStrings.String15\">String15</th></tr></thead><tbody><tr><th>1</th><td>5.9</td><td>3.0</td><td>5.1</td><td>1.8</td><td>Iris-virginica</td></tr><tr><th>2</th><td>5.6</td><td>2.8</td><td>4.9</td><td>2.0</td><td>Iris-virginica</td></tr><tr><th>3</th><td>5.7</td><td>3.0</td><td>4.2</td><td>1.2</td><td>Iris-versicolor</td></tr><tr><th>4</th><td>5.0</td><td>3.5</td><td>1.6</td><td>0.6</td><td>Iris-setosa</td></tr><tr><th>5</th><td>4.8</td><td>3.4</td><td>1.6</td><td>0.2</td><td>Iris-setosa</td></tr><tr><th>6</th><td>5.2</td><td>4.1</td><td>1.5</td><td>0.1</td><td>Iris-setosa</td></tr><tr><th>7</th><td>5.0</td><td>3.4</td><td>1.5</td><td>0.2</td><td>Iris-setosa</td></tr><tr><th>8</th><td>6.7</td><td>3.1</td><td>4.7</td><td>1.5</td><td>Iris-versicolor</td></tr><tr><th>9</th><td>6.4</td><td>2.8</td><td>5.6</td><td>2.2</td><td>Iris-virginica</td></tr><tr><th>10</th><td>6.1</td><td>2.6</td><td>5.6</td><td>1.4</td><td>Iris-virginica</td></tr><tr><th>11</th><td>4.4</td><td>3.0</td><td>1.3</td><td>0.2</td><td>Iris-setosa</td></tr><tr><th>12</th><td>5.7</td><td>2.8</td><td>4.5</td><td>1.3</td><td>Iris-versicolor</td></tr><tr><th>13</th><td>5.7</td><td>2.6</td><td>3.5</td><td>1.0</td><td>Iris-versicolor</td></tr><tr><th>14</th><td>5.5</td><td>3.5</td><td>1.3</td><td>0.2</td><td>Iris-setosa</td></tr><tr><th>15</th><td>6.9</td><td>3.1</td><td>4.9</td><td>1.5</td><td>Iris-versicolor</td></tr><tr><th>16</th><td>6.4</td><td>2.8</td><td>5.6</td><td>2.1</td><td>Iris-virginica</td></tr><tr><th>17</th><td>5.5</td><td>2.6</td><td>4.4</td><td>1.2</td><td>Iris-versicolor</td></tr><tr><th>18</th><td>5.2</td><td>2.7</td><td>3.9</td><td>1.4</td><td>Iris-versicolor</td></tr><tr><th>19</th><td>5.4</td><td>3.9</td><td>1.3</td><td>0.4</td><td>Iris-setosa</td></tr><tr><th>20</th><td>6.4</td><td>2.9</td><td>4.3</td><td>1.3</td><td>Iris-versicolor</td></tr><tr><th>21</th><td>5.3</td><td>3.7</td><td>1.5</td><td>0.2</td><td>Iris-setosa</td></tr><tr><th>22</th><td>5.4</td><td>3.4</td><td>1.5</td><td>0.4</td><td>Iris-setosa</td></tr><tr><th>23</th><td>6.0</td><td>2.2</td><td>4.0</td><td>1.0</td><td>Iris-versicolor</td></tr><tr><th>24</th><td>6.1</td><td>2.8</td><td>4.0</td><td>1.3</td><td>Iris-versicolor</td></tr><tr><th>25</th><td>7.7</td><td>3.8</td><td>6.7</td><td>2.2</td><td>Iris-virginica</td></tr><tr><th>26</th><td>6.5</td><td>3.0</td><td>5.5</td><td>1.8</td><td>Iris-virginica</td></tr><tr><th>27</th><td>6.5</td><td>3.2</td><td>5.1</td><td>2.0</td><td>Iris-virginica</td></tr><tr><th>28</th><td>5.8</td><td>2.6</td><td>4.0</td><td>1.2</td><td>Iris-versicolor</td></tr><tr><th>29</th><td>6.3</td><td>2.9</td><td>5.6</td><td>1.8</td><td>Iris-virginica</td></tr><tr><th>30</th><td>4.3</td><td>3.0</td><td>1.1</td><td>0.1</td><td>Iris-setosa</td></tr><tr><th>&vellip;</th><td>&vellip;</td><td>&vellip;</td><td>&vellip;</td><td>&vellip;</td><td>&vellip;</td></tr></tbody></table></div>"
      ],
      "text/latex": [
       "\\begin{tabular}{r|ccccc}\n",
       "\t& sepallength & sepalwidth & petallength & petalwidth & class\\\\\n",
       "\t\\hline\n",
       "\t& Float64 & Float64 & Float64 & Float64 & String15\\\\\n",
       "\t\\hline\n",
       "\t1 & 5.9 & 3.0 & 5.1 & 1.8 & Iris-virginica \\\\\n",
       "\t2 & 5.6 & 2.8 & 4.9 & 2.0 & Iris-virginica \\\\\n",
       "\t3 & 5.7 & 3.0 & 4.2 & 1.2 & Iris-versicolor \\\\\n",
       "\t4 & 5.0 & 3.5 & 1.6 & 0.6 & Iris-setosa \\\\\n",
       "\t5 & 4.8 & 3.4 & 1.6 & 0.2 & Iris-setosa \\\\\n",
       "\t6 & 5.2 & 4.1 & 1.5 & 0.1 & Iris-setosa \\\\\n",
       "\t7 & 5.0 & 3.4 & 1.5 & 0.2 & Iris-setosa \\\\\n",
       "\t8 & 6.7 & 3.1 & 4.7 & 1.5 & Iris-versicolor \\\\\n",
       "\t9 & 6.4 & 2.8 & 5.6 & 2.2 & Iris-virginica \\\\\n",
       "\t10 & 6.1 & 2.6 & 5.6 & 1.4 & Iris-virginica \\\\\n",
       "\t11 & 4.4 & 3.0 & 1.3 & 0.2 & Iris-setosa \\\\\n",
       "\t12 & 5.7 & 2.8 & 4.5 & 1.3 & Iris-versicolor \\\\\n",
       "\t13 & 5.7 & 2.6 & 3.5 & 1.0 & Iris-versicolor \\\\\n",
       "\t14 & 5.5 & 3.5 & 1.3 & 0.2 & Iris-setosa \\\\\n",
       "\t15 & 6.9 & 3.1 & 4.9 & 1.5 & Iris-versicolor \\\\\n",
       "\t16 & 6.4 & 2.8 & 5.6 & 2.1 & Iris-virginica \\\\\n",
       "\t17 & 5.5 & 2.6 & 4.4 & 1.2 & Iris-versicolor \\\\\n",
       "\t18 & 5.2 & 2.7 & 3.9 & 1.4 & Iris-versicolor \\\\\n",
       "\t19 & 5.4 & 3.9 & 1.3 & 0.4 & Iris-setosa \\\\\n",
       "\t20 & 6.4 & 2.9 & 4.3 & 1.3 & Iris-versicolor \\\\\n",
       "\t21 & 5.3 & 3.7 & 1.5 & 0.2 & Iris-setosa \\\\\n",
       "\t22 & 5.4 & 3.4 & 1.5 & 0.4 & Iris-setosa \\\\\n",
       "\t23 & 6.0 & 2.2 & 4.0 & 1.0 & Iris-versicolor \\\\\n",
       "\t24 & 6.1 & 2.8 & 4.0 & 1.3 & Iris-versicolor \\\\\n",
       "\t25 & 7.7 & 3.8 & 6.7 & 2.2 & Iris-virginica \\\\\n",
       "\t26 & 6.5 & 3.0 & 5.5 & 1.8 & Iris-virginica \\\\\n",
       "\t27 & 6.5 & 3.2 & 5.1 & 2.0 & Iris-virginica \\\\\n",
       "\t28 & 5.8 & 2.6 & 4.0 & 1.2 & Iris-versicolor \\\\\n",
       "\t29 & 6.3 & 2.9 & 5.6 & 1.8 & Iris-virginica \\\\\n",
       "\t30 & 4.3 & 3.0 & 1.1 & 0.1 & Iris-setosa \\\\\n",
       "\t$\\dots$ & $\\dots$ & $\\dots$ & $\\dots$ & $\\dots$ & $\\dots$ \\\\\n",
       "\\end{tabular}\n"
      ],
      "text/plain": [
       "\u001b[1m150×5 DataFrame\u001b[0m\n",
       "\u001b[1m Row \u001b[0m│\u001b[1m sepallength \u001b[0m\u001b[1m sepalwidth \u001b[0m\u001b[1m petallength \u001b[0m\u001b[1m petalwidth \u001b[0m\u001b[1m class           \u001b[0m\n",
       "\u001b[1m     \u001b[0m│\u001b[90m Float64     \u001b[0m\u001b[90m Float64    \u001b[0m\u001b[90m Float64     \u001b[0m\u001b[90m Float64    \u001b[0m\u001b[90m String15        \u001b[0m\n",
       "─────┼───────────────────────────────────────────────────────────────────\n",
       "   1 │         5.9         3.0          5.1         1.8  Iris-virginica\n",
       "   2 │         5.6         2.8          4.9         2.0  Iris-virginica\n",
       "   3 │         5.7         3.0          4.2         1.2  Iris-versicolor\n",
       "   4 │         5.0         3.5          1.6         0.6  Iris-setosa\n",
       "   5 │         4.8         3.4          1.6         0.2  Iris-setosa\n",
       "   6 │         5.2         4.1          1.5         0.1  Iris-setosa\n",
       "   7 │         5.0         3.4          1.5         0.2  Iris-setosa\n",
       "   8 │         6.7         3.1          4.7         1.5  Iris-versicolor\n",
       "   9 │         6.4         2.8          5.6         2.2  Iris-virginica\n",
       "  10 │         6.1         2.6          5.6         1.4  Iris-virginica\n",
       "  11 │         4.4         3.0          1.3         0.2  Iris-setosa\n",
       "  ⋮  │      ⋮           ⋮            ⋮           ⋮              ⋮\n",
       " 141 │         5.0         3.3          1.4         0.2  Iris-setosa\n",
       " 142 │         6.2         2.9          4.3         1.3  Iris-versicolor\n",
       " 143 │         6.3         2.5          5.0         1.9  Iris-virginica\n",
       " 144 │         6.9         3.1          5.4         2.1  Iris-virginica\n",
       " 145 │         6.3         2.5          4.9         1.5  Iris-versicolor\n",
       " 146 │         5.1         3.8          1.6         0.2  Iris-setosa\n",
       " 147 │         7.2         3.2          6.0         1.8  Iris-virginica\n",
       " 148 │         6.4         2.7          5.3         1.9  Iris-virginica\n",
       " 149 │         5.5         4.2          1.4         0.2  Iris-setosa\n",
       " 150 │         6.7         3.3          5.7         2.5  Iris-virginica\n",
       "\u001b[36m                                                         129 rows omitted\u001b[0m"
      ]
     },
     "execution_count": 2,
     "metadata": {},
     "output_type": "execute_result"
    }
   ],
   "source": [
    "dataset = DataFrame(shuffle(eachrow(Iris().dataframe)))"
   ]
  },
  {
   "cell_type": "markdown",
   "metadata": {},
   "source": [
    "Prepare heatmap matrix of 'k' and 'p' parameters"
   ]
  },
  {
   "cell_type": "code",
   "execution_count": 3,
   "metadata": {},
   "outputs": [],
   "source": [
    "k_linspace = 1:20\n",
    "p_linspace = 1:0.05:5\n",
    "heatmap_matrix = zeros(length(k_linspace), length(p_linspace));"
   ]
  },
  {
   "cell_type": "markdown",
   "metadata": {},
   "source": [
    "Fill heatmap matrix with accuracy results for different parameters setting"
   ]
  },
  {
   "cell_type": "code",
   "execution_count": 4,
   "metadata": {},
   "outputs": [],
   "source": [
    "for (k::Int64, k_itr::Int64) in zip(k_linspace, 1:length(k_linspace))\n",
    "    for (p::Float64, p_itr::Int64) in zip(p_linspace, 1:length(p_linspace))\n",
    "        heatmap_matrix[k_itr, p_itr] = leave_one_out_kNN(dataset, 1:4, 5, k, p)\n",
    "    end\n",
    "end"
   ]
  },
  {
   "cell_type": "markdown",
   "metadata": {},
   "source": [
    "Plot the heatmap"
   ]
  },
  {
   "cell_type": "code",
   "execution_count": 18,
   "metadata": {},
   "outputs": [
    {
     "data": {
      "image/png": "[encoded data removed]"
     },
     "execution_count": 18,
     "metadata": {},
     "output_type": "execute_result"
    }
   ],
   "source": [
    "gr(size=(700, 500), html_output_format=:png)\n",
    "heatmap(heatmap_matrix, xticks = (1:10:length(p_linspace)+1, \n",
    "    string.(1:maximum(p_linspace)/10:maximum(p_linspace))), title=\"k-NNᵖ accuracy\", xlabel=\"p\", ylabel=\"k\")"
   ]
  },
  {
   "cell_type": "markdown",
   "metadata": {},
   "source": [
    "Get the minimum and the maximum accuracy settings"
   ]
  },
  {
   "cell_type": "code",
   "execution_count": 10,
   "metadata": {},
   "outputs": [
    {
     "name": "stdout",
     "output_type": "stream",
     "text": [
      "best accuracy: 0.987 for p = 33.00 and k = 11\n",
      "worst accuracy: 0.947 for p = 1.00 and k = 7\n"
     ]
    }
   ],
   "source": [
    "max_arg = argmax(heatmap_matrix)\n",
    "min_arg = argmin(heatmap_matrix)\n",
    "@printf \"best accuracy: %.3f for p = %.2f and k = %i\\n\" heatmap_matrix[max_arg] max_arg[2] max_arg[1]\n",
    "@printf \"worst accuracy: %.3f for p = %.2f and k = %i\\n\" heatmap_matrix[min_arg] min_arg[2] min_arg[1]"
   ]
  }
 ],
 "metadata": {
  "kernelspec": {
   "display_name": "Julia 1.7.0",
   "language": "julia",
   "name": "julia-1.7"
  },
  "language_info": {
   "file_extension": ".jl",
   "mimetype": "application/julia",
   "name": "julia",
   "version": "1.7.0"
  },
  "orig_nbformat": 4,
  "vscode": {
   "interpreter": {
    "hash": "60aa0a847b2a6c4771b6f0a4a09c35a6025b095fa5d9ee644f9ad21b1db0180c"
   }
  }
 },
 "nbformat": 4,
 "nbformat_minor": 2
}
